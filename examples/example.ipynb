{
 "cells": [
  {
   "cell_type": "code",
   "execution_count": 1,
   "metadata": {},
   "outputs": [
    {
     "data": {
      "application/vnd.jupyter.widget-view+json": {
       "model_id": "df511a6c2f74427597a530eb05da3665",
       "version_major": 2,
       "version_minor": 0
      },
      "text/plain": [
       "GPUStatsApp(children=(HeaderWidget(children=(TextWidgetStyle(value='<div style=\"color: green; font-family: mon…"
      ]
     },
     "metadata": {},
     "output_type": "display_data"
    }
   ],
   "source": [
    "%pip install git+https://github.com/bmpixel/gpuwidget\n",
    "import gpuwidget\n",
    "gpuwidget.live()"
   ]
  }
 ],
 "metadata": {
  "kernelspec": {
   "display_name": "gpuwidget",
   "language": "python",
   "name": "python3"
  },
  "language_info": {
   "codemirror_mode": {
    "name": "ipython",
    "version": 3
   },
   "file_extension": ".py",
   "mimetype": "text/x-python",
   "name": "python",
   "nbconvert_exporter": "python",
   "pygments_lexer": "ipython3",
   "version": "3.10.14"
  }
 },
 "nbformat": 4,
 "nbformat_minor": 4
}
